{
 "cells": [
  {
   "cell_type": "markdown",
   "metadata": {},
   "source": [
    "# Tweet miner function"
   ]
  },
  {
   "cell_type": "markdown",
   "metadata": {},
   "source": [
    "##### some reference taken from Mike Roman and elaiken"
   ]
  },
  {
   "cell_type": "code",
   "execution_count": 2,
   "metadata": {},
   "outputs": [],
   "source": [
    "class TweetMiner(object):\n",
    "    \n",
    "    def __init__(self, api, result_limit = 20):\n",
    "        self.api = api\n",
    "        self.result_limit = result_limit\n",
    "        \n",
    "    def mine_user_tweets(self, user=\"HillaryClinton\", mine_retweets=False, max_pages = 20):\n",
    "        data = []\n",
    "        last_tweet_id = False\n",
    "        page = 1\n",
    "        \n",
    "        while page <= max_pages:\n",
    "            \n",
    "            if last_tweet_id:\n",
    "                statuses = self.api.GetUserTimeline(screen_name=user, count=self.result_limit, max_id=last_tweet_id-1, include_rts=mine_retweets)\n",
    "                statuses= [_.AsDict() for _ in statuses]\n",
    "                \n",
    "            else:\n",
    "                statuses   =   self.api.GetUserTimeline(screen_name=user, count=self.result_limit, include_rts=mine_retweets)\n",
    "                statuses = [_.AsDict() for _ in statuses]\n",
    "                \n",
    "            for item in statuses:\n",
    "                # Using try except here.\n",
    "                # When retweets = 0 we get an error (GetUserTimeline fails to create a key, 'retweet_count')\n",
    "                try:\n",
    "                    mined = {\n",
    "                        'tweet_id':        item['id'],\n",
    "                        'handle':          item['user']['screen_name'],\n",
    "                        'retweet_count':   item['retweet_count'],\n",
    "                        'text':            item['full_text'],\n",
    "                        'mined_at':        datetime.datetime.now(),\n",
    "                        'created_at':      item['created_at'],\n",
    "                    }\n",
    "                \n",
    "                except:\n",
    "                        mined = {\n",
    "                        'tweet_id':        item['id'],\n",
    "                        'handle':          item['user']['screen_name'],\n",
    "                        'retweet_count':   0,\n",
    "                        'text':            item['full_text'],\n",
    "                        'mined_at':        datetime.datetime.now(),\n",
    "                        'created_at':      item['created_at'],\n",
    "                    }\n",
    "                \n",
    "                last_tweet_id = item['id']\n",
    "                data.append(mined)\n",
    "                \n",
    "            page += 1\n",
    "            \n",
    "        return data"
   ]
  },
  {
   "cell_type": "code",
   "execution_count": null,
   "metadata": {},
   "outputs": [],
   "source": []
  }
 ],
 "metadata": {
  "kernelspec": {
   "display_name": "Python 3",
   "language": "python",
   "name": "python3"
  },
  "language_info": {
   "codemirror_mode": {
    "name": "ipython",
    "version": 3
   },
   "file_extension": ".py",
   "mimetype": "text/x-python",
   "name": "python",
   "nbconvert_exporter": "python",
   "pygments_lexer": "ipython3",
   "version": "3.7.3"
  }
 },
 "nbformat": 4,
 "nbformat_minor": 2
}
